{
 "cells": [
  {
   "cell_type": "code",
   "execution_count": 1,
   "id": "3f11e093-8e5f-439b-8576-3ee385cb9eda",
   "metadata": {},
   "outputs": [],
   "source": [
    "import pandas as pd\n",
    "import numpy as np\n",
    "from sklearn.ensemble import RandomForestClassifier\n",
    "from sklearn.metrics import classification_report, accuracy_score\n",
    "from sklearn.model_selection import train_test_split\n",
    "import warnings\n",
    "warnings.filterwarnings(\"ignore\")"
   ]
  },
  {
   "cell_type": "code",
   "execution_count": 5,
   "id": "2ef103ec-bdd9-47e9-b1d3-8003b035cd41",
   "metadata": {},
   "outputs": [],
   "source": [
    "\n",
    "\n",
    "# Use raw string literals to avoid escape sequence issues in Windows paths\n",
    "train_df = pd.read_csv(r\"C:\\Users\\Asus\\OneDrive\\Desktop\\New folder\\symptoms training.csv\")\n",
    "test_df = pd.read_csv(r\"C:\\Users\\Asus\\OneDrive\\Desktop\\New folder\\symptoms testing (1).csv\")\n",
    "medications = pd.read_csv(r\"C:\\Users\\Asus\\OneDrive\\Desktop\\New folder\\Symptoms 2\\medications.csv\")\n",
    "diets = pd.read_csv(r\"C:\\Users\\Asus\\OneDrive\\Desktop\\New folder\\Symptoms 2\\diets.csv\")\n",
    "workouts = pd.read_csv(r\"C:\\Users\\Asus\\OneDrive\\Desktop\\New folder\\Symptoms 2\\workout_df.csv\")\n",
    "precautions = pd.read_csv(r\"C:\\Users\\Asus\\OneDrive\\Desktop\\New folder\\Symptoms 2\\precautions_df.csv\")\n",
    "\n"
   ]
  },
  {
   "cell_type": "code",
   "execution_count": 86,
   "id": "841d3d2d-8f19-4a4d-8971-03dca348c818",
   "metadata": {},
   "outputs": [
    {
     "name": "stdout",
     "output_type": "stream",
     "text": [
      "   itching  skin_rash  nodal_skin_eruptions  continuous_sneezing  shivering  \\\n",
      "0        1          1                     1                    0          0   \n",
      "1        0          1                     1                    0          0   \n",
      "2        1          0                     1                    0          0   \n",
      "3        1          1                     0                    0          0   \n",
      "4        1          1                     1                    0          0   \n",
      "\n",
      "   chills  joint_pain  stomach_pain  acidity  ulcers_on_tongue  ...  \\\n",
      "0       0           0             0        0                 0  ...   \n",
      "1       0           0             0        0                 0  ...   \n",
      "2       0           0             0        0                 0  ...   \n",
      "3       0           0             0        0                 0  ...   \n",
      "4       0           0             0        0                 0  ...   \n",
      "\n",
      "   blackheads  scurring  skin_peeling  silver_like_dusting  \\\n",
      "0           0         0             0                    0   \n",
      "1           0         0             0                    0   \n",
      "2           0         0             0                    0   \n",
      "3           0         0             0                    0   \n",
      "4           0         0             0                    0   \n",
      "\n",
      "   small_dents_in_nails  inflammatory_nails  blister  red_sore_around_nose  \\\n",
      "0                     0                   0        0                     0   \n",
      "1                     0                   0        0                     0   \n",
      "2                     0                   0        0                     0   \n",
      "3                     0                   0        0                     0   \n",
      "4                     0                   0        0                     0   \n",
      "\n",
      "   yellow_crust_ooze         prognosis  \n",
      "0                  0  Fungal infection  \n",
      "1                  0  Fungal infection  \n",
      "2                  0  Fungal infection  \n",
      "3                  0  Fungal infection  \n",
      "4                  0  Fungal infection  \n",
      "\n",
      "[5 rows x 133 columns]\n",
      "               Symptom  Weight\n",
      "0             headache       2\n",
      "1                cough       3\n",
      "2              fatigue       2\n",
      "3  shortness_of_breath       4\n",
      "    Disease     Medication\n",
      "0       Flu    Paracetamol\n",
      "1      Cold  Antihistamine\n",
      "2  Diabetes        Insulin\n",
      "    Disease           Diet\n",
      "0       Flu       Flu Diet\n",
      "1      Cold      Cold Diet\n",
      "2  Diabetes  Diabetes Diet\n",
      "    Disease           Workout\n",
      "0       Flu              Rest\n",
      "1      Cold     Light Walking\n",
      "2  Diabetes  Regular Exercise\n",
      "    Disease   Precaution_1        Precaution_2  Precaution_3   Precaution_4\n",
      "0       Flu     Avoid Cold                Rest          None  Stay Hydrated\n",
      "1      Cold     Avoid Cold                Rest          None           None\n",
      "2  Diabetes  Monitor Sugar  Exercise Regularly  Avoid Sweets           None\n"
     ]
    }
   ],
   "source": [
    "print(train_df.head())\n",
    "print(test_df.head())\n",
    "print(medications.head())\n",
    "print(diets.head())\n",
    "print(workouts.head())\n",
    "print(precautions.head())\n"
   ]
  },
  {
   "cell_type": "code",
   "execution_count": 88,
   "id": "fa50f362-79ee-421c-b88f-0841ce3d75d0",
   "metadata": {},
   "outputs": [
    {
     "data": {
      "text/plain": [
       "itching                 0\n",
       "skin_rash               0\n",
       "nodal_skin_eruptions    0\n",
       "continuous_sneezing     0\n",
       "shivering               0\n",
       "                       ..\n",
       "inflammatory_nails      0\n",
       "blister                 0\n",
       "red_sore_around_nose    0\n",
       "yellow_crust_ooze       0\n",
       "prognosis               0\n",
       "Length: 133, dtype: int64"
      ]
     },
     "execution_count": 88,
     "metadata": {},
     "output_type": "execute_result"
    }
   ],
   "source": [
    " train_df.isnull().sum() \n"
   ]
  },
  {
   "cell_type": "code",
   "execution_count": 90,
   "id": "2a22f39b-2a66-491e-8c52-04e361ed3ea9",
   "metadata": {},
   "outputs": [
    {
     "name": "stdout",
     "output_type": "stream",
     "text": [
      "prognosis\n",
      "Fungal infection                           120\n",
      "Hepatitis C                                120\n",
      "Hepatitis E                                120\n",
      "Alcoholic hepatitis                        120\n",
      "Tuberculosis                               120\n",
      "Common Cold                                120\n",
      "Pneumonia                                  120\n",
      "Dimorphic hemmorhoids(piles)               120\n",
      "Heart attack                               120\n",
      "Varicose veins                             120\n",
      "Hypothyroidism                             120\n",
      "Hyperthyroidism                            120\n",
      "Hypoglycemia                               120\n",
      "Osteoarthristis                            120\n",
      "Arthritis                                  120\n",
      "(vertigo) Paroymsal  Positional Vertigo    120\n",
      "Acne                                       120\n",
      "Urinary tract infection                    120\n",
      "Psoriasis                                  120\n",
      "Hepatitis D                                120\n",
      "Hepatitis B                                120\n",
      "Allergy                                    120\n",
      "hepatitis A                                120\n",
      "GERD                                       120\n",
      "Chronic cholestasis                        120\n",
      "Drug Reaction                              120\n",
      "Peptic ulcer diseae                        120\n",
      "AIDS                                       120\n",
      "Diabetes                                   120\n",
      "Gastroenteritis                            120\n",
      "Bronchial Asthma                           120\n",
      "Hypertension                               120\n",
      "Migraine                                   120\n",
      "Cervical spondylosis                       120\n",
      "Paralysis (brain hemorrhage)               120\n",
      "Jaundice                                   120\n",
      "Malaria                                    120\n",
      "Chicken pox                                120\n",
      "Dengue                                     120\n",
      "Typhoid                                    120\n",
      "Impetigo                                   120\n",
      "Name: count, dtype: int64\n"
     ]
    }
   ],
   "source": [
    "print(train_df['prognosis'].value_counts())"
   ]
  },
  {
   "cell_type": "code",
   "execution_count": 75,
   "id": "29ce08e0-edda-4cbc-a350-90bd6f349029",
   "metadata": {},
   "outputs": [
    {
     "name": "stdout",
     "output_type": "stream",
     "text": [
      "prognosis\n",
      "Fungal infection                           120\n",
      "Hepatitis C                                120\n",
      "Hepatitis E                                120\n",
      "Alcoholic hepatitis                        120\n",
      "Tuberculosis                               120\n",
      "Common Cold                                120\n",
      "Pneumonia                                  120\n",
      "Dimorphic hemmorhoids(piles)               120\n",
      "Heart attack                               120\n",
      "Varicose veins                             120\n",
      "Hypothyroidism                             120\n",
      "Hyperthyroidism                            120\n",
      "Hypoglycemia                               120\n",
      "Osteoarthristis                            120\n",
      "Arthritis                                  120\n",
      "(vertigo) Paroymsal  Positional Vertigo    120\n",
      "Acne                                       120\n",
      "Urinary tract infection                    120\n",
      "Psoriasis                                  120\n",
      "Hepatitis D                                120\n",
      "Hepatitis B                                120\n",
      "Allergy                                    120\n",
      "hepatitis A                                120\n",
      "GERD                                       120\n",
      "Chronic cholestasis                        120\n",
      "Drug Reaction                              120\n",
      "Peptic ulcer diseae                        120\n",
      "AIDS                                       120\n",
      "Diabetes                                   120\n",
      "Gastroenteritis                            120\n",
      "Bronchial Asthma                           120\n",
      "Hypertension                               120\n",
      "Migraine                                   120\n",
      "Cervical spondylosis                       120\n",
      "Paralysis (brain hemorrhage)               120\n",
      "Jaundice                                   120\n",
      "Malaria                                    120\n",
      "Chicken pox                                120\n",
      "Dengue                                     120\n",
      "Typhoid                                    120\n",
      "Impetigo                                   120\n",
      "Name: count, dtype: int64\n"
     ]
    }
   ],
   "source": [
    "print(train_df['prognosis'].value_counts())\n"
   ]
  },
  {
   "cell_type": "code",
   "execution_count": 92,
   "id": "dbdf11ec-9fd7-4169-8d88-219ca6b1af25",
   "metadata": {},
   "outputs": [
    {
     "name": "stdout",
     "output_type": "stream",
     "text": [
      "Model Accuracy: 1.0\n",
      "                                         precision    recall  f1-score   support\n",
      "\n",
      "(vertigo) Paroymsal  Positional Vertigo       1.00      1.00      1.00        18\n",
      "                                   AIDS       1.00      1.00      1.00        30\n",
      "                                   Acne       1.00      1.00      1.00        24\n",
      "                    Alcoholic hepatitis       1.00      1.00      1.00        25\n",
      "                                Allergy       1.00      1.00      1.00        24\n",
      "                              Arthritis       1.00      1.00      1.00        23\n",
      "                       Bronchial Asthma       1.00      1.00      1.00        33\n",
      "                   Cervical spondylosis       1.00      1.00      1.00        23\n",
      "                            Chicken pox       1.00      1.00      1.00        21\n",
      "                    Chronic cholestasis       1.00      1.00      1.00        15\n",
      "                            Common Cold       1.00      1.00      1.00        23\n",
      "                                 Dengue       1.00      1.00      1.00        26\n",
      "                              Diabetes        1.00      1.00      1.00        21\n",
      "           Dimorphic hemmorhoids(piles)       1.00      1.00      1.00        29\n",
      "                          Drug Reaction       1.00      1.00      1.00        24\n",
      "                       Fungal infection       1.00      1.00      1.00        19\n",
      "                                   GERD       1.00      1.00      1.00        28\n",
      "                        Gastroenteritis       1.00      1.00      1.00        25\n",
      "                           Heart attack       1.00      1.00      1.00        23\n",
      "                            Hepatitis B       1.00      1.00      1.00        27\n",
      "                            Hepatitis C       1.00      1.00      1.00        26\n",
      "                            Hepatitis D       1.00      1.00      1.00        23\n",
      "                            Hepatitis E       1.00      1.00      1.00        29\n",
      "                          Hypertension        1.00      1.00      1.00        25\n",
      "                        Hyperthyroidism       1.00      1.00      1.00        24\n",
      "                           Hypoglycemia       1.00      1.00      1.00        26\n",
      "                         Hypothyroidism       1.00      1.00      1.00        21\n",
      "                               Impetigo       1.00      1.00      1.00        24\n",
      "                               Jaundice       1.00      1.00      1.00        19\n",
      "                                Malaria       1.00      1.00      1.00        22\n",
      "                               Migraine       1.00      1.00      1.00        25\n",
      "                        Osteoarthristis       1.00      1.00      1.00        22\n",
      "           Paralysis (brain hemorrhage)       1.00      1.00      1.00        24\n",
      "                    Peptic ulcer diseae       1.00      1.00      1.00        17\n",
      "                              Pneumonia       1.00      1.00      1.00        28\n",
      "                              Psoriasis       1.00      1.00      1.00        22\n",
      "                           Tuberculosis       1.00      1.00      1.00        25\n",
      "                                Typhoid       1.00      1.00      1.00        19\n",
      "                Urinary tract infection       1.00      1.00      1.00        26\n",
      "                         Varicose veins       1.00      1.00      1.00        22\n",
      "                            hepatitis A       1.00      1.00      1.00        34\n",
      "\n",
      "                               accuracy                           1.00       984\n",
      "                              macro avg       1.00      1.00      1.00       984\n",
      "                           weighted avg       1.00      1.00      1.00       984\n",
      "\n"
     ]
    }
   ],
   "source": [
    "# Split data into features and labels\n",
    "X = train_df.drop(columns=['prognosis'])\n",
    "y = train_df['prognosis']\n",
    "\n",
    "# Split into training and testing sets\n",
    "X_train, X_test, y_train, y_test = train_test_split(X, y, test_size=0.2, random_state=42)\n",
    "\n",
    "# Train RandomForest model\n",
    "rf_model = RandomForestClassifier(n_estimators=100, random_state=42)\n",
    "rf_model.fit(X_train, y_train)\n",
    "\n",
    "# Evaluate model accuracy\n",
    "y_pred = rf_model.predict(X_test)\n",
    "print(\"Model Accuracy:\", accuracy_score(y_test, y_pred))\n",
    "print(classification_report(y_test, y_pred))"
   ]
  },
  {
   "cell_type": "code",
   "execution_count": 94,
   "id": "6c2ef135-720b-4de4-8780-a07d0f5d98e2",
   "metadata": {},
   "outputs": [
    {
     "name": "stdin",
     "output_type": "stream",
     "text": [
      "Enter symptoms separated by commas:  itching, skin_rash, continuous_sneezing, joint_pain\n"
     ]
    },
    {
     "name": "stdout",
     "output_type": "stream",
     "text": [
      "Predicted Diagnosis: Fungal infection\n"
     ]
    }
   ],
   "source": [
    "# Function to take symptoms input and predict the disease\n",
    "def predict_disease():\n",
    "    # Get symptoms from user input\n",
    "    symptoms = input(\"Enter symptoms separated by commas: \").strip().lower().split(\", \")\n",
    "    \n",
    "    # Create an empty feature vector\n",
    "    input_vector = np.zeros(X_train.shape[1])\n",
    "    \n",
    "    # Map symptoms to feature vector\n",
    "    for symptom in symptoms:\n",
    "        if symptom in X_train.columns:\n",
    "            input_vector[X_train.columns.get_loc(symptom)] = 1\n",
    "\n",
    "    # Predict prognosis\n",
    "    prediction = rf_model.predict([input_vector])\n",
    "    print(\"Predicted Diagnosis:\", prediction[0])\n",
    "\n",
    "# Run the prediction system\n",
    "predict_disease()"
   ]
  },
  {
   "cell_type": "code",
   "execution_count": 100,
   "id": "a7490878-f261-454e-a125-2fad1065a4fc",
   "metadata": {},
   "outputs": [
    {
     "name": "stdout",
     "output_type": "stream",
     "text": [
      "\n",
      "🩺 Basic Health Risk Assessment\n"
     ]
    },
    {
     "name": "stdin",
     "output_type": "stream",
     "text": [
      "Do you follow a balanced diet? (yes/no):  no\n",
      "Do you exercise at least 3 times a week? (yes/no):  yes\n",
      "Do you smoke regularly? (yes/no):  no\n",
      "Do you consume alcohol frequently? (yes/no):  yes\n",
      "Do you get at least 7 hours of sleep daily? (yes/no):  no\n",
      "Do you experience high stress levels? (yes/no):  yes\n"
     ]
    },
    {
     "name": "stdout",
     "output_type": "stream",
     "text": [
      "\n",
      "⚠️ **Potential Health Risks Based on Your Lifestyle:**\n",
      "- Nutritional deficiencies, obesity, diabetes\n",
      "- Liver disease, high blood pressure, mental health concerns\n",
      "- Weakened immunity, anxiety, heart disease\n",
      "- Hypertension, poor mental health, digestive issues\n"
     ]
    }
   ],
   "source": [
    "def lifestyle_risk_assessment():\n",
    "    print(\"\\n🩺 Basic Health Risk Assessment\")\n",
    "    \n",
    "    # Ask user about lifestyle choices\n",
    "    diet = input(\"Do you follow a balanced diet? (yes/no): \").strip().lower()\n",
    "    exercise = input(\"Do you exercise at least 3 times a week? (yes/no): \").strip().lower()\n",
    "    smoking = input(\"Do you smoke regularly? (yes/no): \").strip().lower()\n",
    "    alcohol = input(\"Do you consume alcohol frequently? (yes/no): \").strip().lower()\n",
    "    sleep = input(\"Do you get at least 7 hours of sleep daily? (yes/no): \").strip().lower()\n",
    "    stress = input(\"Do you experience high stress levels? (yes/no): \").strip().lower()\n",
    "\n",
    "    # Initialize an empty list for risk factors\n",
    "    risks = []\n",
    "\n",
    "    # Evaluate risks based on user responses\n",
    "    if diet == \"no\":\n",
    "        risks.append(\"Nutritional deficiencies, obesity, diabetes\")\n",
    "    if exercise == \"no\":\n",
    "        risks.append(\"Heart disease, obesity, weak immunity\")\n",
    "    if smoking == \"yes\":\n",
    "        risks.append(\"Lung disease, cancer, heart issues\")\n",
    "    if alcohol == \"yes\":\n",
    "        risks.append(\"Liver disease, high blood pressure, mental health concerns\")\n",
    "    if sleep == \"no\":\n",
    "        risks.append(\"Weakened immunity, anxiety, heart disease\")\n",
    "    if stress == \"yes\":\n",
    "        risks.append(\"Hypertension, poor mental health, digestive issues\")\n",
    "\n",
    "    # Display risk assessment results\n",
    "    if risks:\n",
    "        print(\"\\n⚠️ **Potential Health Risks Based on Your Lifestyle:**\")\n",
    "        for risk in risks:\n",
    "            print(f\"- {risk}\")\n",
    "    else:\n",
    "        print(\"\\n✅ **Great! Your lifestyle choices seem healthy. Keep it up!**\")\n",
    "\n",
    "# Run the risk assessment function\n",
    "lifestyle_risk_assessment()"
   ]
  },
  {
   "cell_type": "code",
   "execution_count": null,
   "id": "5d301d64-b076-4260-9339-4066bc676bd7",
   "metadata": {},
   "outputs": [],
   "source": []
  }
 ],
 "metadata": {
  "kernelspec": {
   "display_name": "Python 3 (ipykernel)",
   "language": "python",
   "name": "python3"
  },
  "language_info": {
   "codemirror_mode": {
    "name": "ipython",
    "version": 3
   },
   "file_extension": ".py",
   "mimetype": "text/x-python",
   "name": "python",
   "nbconvert_exporter": "python",
   "pygments_lexer": "ipython3",
   "version": "3.12.4"
  }
 },
 "nbformat": 4,
 "nbformat_minor": 5
}
